{
 "cells": [
  {
   "cell_type": "code",
   "execution_count": 48,
   "outputs": [],
   "source": [
    "\n",
    "import numpy"
   ],
   "metadata": {
    "collapsed": false,
    "pycharm": {
     "name": "#%%\n"
    }
   }
  },
  {
   "cell_type": "markdown",
   "source": [
    "### Упражнение 7.2\n",
    "Быстрое преобразование Фурье"
   ],
   "metadata": {
    "collapsed": false
   }
  },
  {
   "cell_type": "markdown",
   "source": [
    "Функция `synthesis_matrix`"
   ],
   "metadata": {
    "collapsed": false,
    "pycharm": {
     "name": "#%% md\n"
    }
   }
  },
  {
   "cell_type": "code",
   "execution_count": 49,
   "outputs": [],
   "source": [
    "PI2 = numpy.pi * 2\n",
    "\n",
    "def synthesis_matrix(N):\n",
    "    ts = numpy.arange(N) / N\n",
    "    freqs = numpy.arange(N)\n",
    "    args = numpy.outer(ts, freqs)\n",
    "    M = numpy.exp(1j * PI2 * args)\n",
    "    return M"
   ],
   "metadata": {
    "collapsed": false,
    "pycharm": {
     "name": "#%%\n"
    }
   }
  },
  {
   "cell_type": "markdown",
   "source": [
    "Функция `dft`"
   ],
   "metadata": {
    "collapsed": false
   }
  },
  {
   "cell_type": "code",
   "execution_count": 50,
   "outputs": [],
   "source": [
    "def dft(ys):\n",
    "    N = len(ys)\n",
    "    M = synthesis_matrix(N)\n",
    "    amps = M.conj().transpose().dot(ys)\n",
    "    return amps"
   ],
   "metadata": {
    "collapsed": false,
    "pycharm": {
     "name": "#%%\n"
    }
   }
  },
  {
   "cell_type": "markdown",
   "source": [
    "Формирование сигнала и вычисление ДПФ с помощью `numpy.fft.fft`"
   ],
   "metadata": {
    "collapsed": false
   }
  },
  {
   "cell_type": "code",
   "execution_count": 51,
   "outputs": [
    {
     "name": "stdout",
     "output_type": "stream",
     "text": [
      "[-0.1+0.j  -0.2-1.1j -0.3+0.j  -0.2+1.1j]\n"
     ]
    }
   ],
   "source": [
    "ys = [-0.2, 0.6, 0., -0.5]\n",
    "hs = numpy.fft.fft(ys)\n",
    "print(hs)\n"
   ],
   "metadata": {
    "collapsed": false,
    "pycharm": {
     "name": "#%%\n"
    }
   }
  },
  {
   "cell_type": "markdown",
   "source": [
    "Сравнение результатов функций `dft` и `numpy.fft.fft`"
   ],
   "metadata": {
    "collapsed": false
   }
  },
  {
   "cell_type": "code",
   "execution_count": 52,
   "outputs": [
    {
     "name": "stdout",
     "output_type": "stream",
     "text": [
      "[-0.1+0.00000000e+00j -0.2-1.10000000e+00j -0.3+1.10218212e-16j\n",
      " -0.2+1.10000000e+00j]\n"
     ]
    },
    {
     "data": {
      "text/plain": "6.230083922242757e-16"
     },
     "execution_count": 52,
     "metadata": {},
     "output_type": "execute_result"
    }
   ],
   "source": [
    "hs2 = dft(ys)\n",
    "print(hs2)\n",
    "numpy.sum(numpy.abs(hs - hs2))"
   ],
   "metadata": {
    "collapsed": false,
    "pycharm": {
     "name": "#%%\n"
    }
   }
  },
  {
   "cell_type": "markdown",
   "source": [
    "Функция, разбивающая входной массив на чётные и нечётные элементы и использующая\n",
    "    `numpy.fft.fft` для вычисления ДПФ полученных половин"
   ],
   "metadata": {
    "collapsed": false
   }
  },
  {
   "cell_type": "code",
   "execution_count": 53,
   "outputs": [],
   "source": [
    "def fft_norec(ys):\n",
    "    N = len(ys)\n",
    "    He = numpy.fft.fft(ys[::2])\n",
    "    Ho = numpy.fft.fft(ys[1::2])\n",
    "\n",
    "    ns = numpy.arange(N)\n",
    "    W = numpy.exp(-1j * PI2 * ns / N)\n",
    "\n",
    "    return numpy.tile(He, 2) + W * numpy.tile(Ho, 2)"
   ],
   "metadata": {
    "collapsed": false,
    "pycharm": {
     "name": "#%%\n"
    }
   }
  },
  {
   "cell_type": "markdown",
   "source": [
    "Вычисление ДПФ и сравнение результата с другими реализациями"
   ],
   "metadata": {
    "collapsed": false
   }
  },
  {
   "cell_type": "code",
   "execution_count": 54,
   "outputs": [
    {
     "name": "stdout",
     "output_type": "stream",
     "text": [
      "[-0.1+0.0000000e+00j -0.2-1.1000000e+00j -0.3-1.2246468e-17j\n",
      " -0.2+1.1000000e+00j]\n"
     ]
    },
    {
     "data": {
      "text/plain": "2.620466485321338e-16"
     },
     "execution_count": 54,
     "metadata": {},
     "output_type": "execute_result"
    }
   ],
   "source": [
    "hs3 = fft_norec(ys)\n",
    "print(hs3)\n",
    "numpy.sum(numpy.abs(hs - hs3))"
   ],
   "metadata": {
    "collapsed": false,
    "pycharm": {
     "name": "#%%\n"
    }
   }
  },
  {
   "cell_type": "markdown",
   "source": [
    "Добавление рекурсии и базового случая"
   ],
   "metadata": {
    "collapsed": false
   }
  },
  {
   "cell_type": "code",
   "execution_count": 55,
   "outputs": [],
   "source": [
    "def fft(ys):\n",
    "    N = len(ys)\n",
    "    if N == 1:\n",
    "        return ys\n",
    "\n",
    "    He = fft(ys[::2])\n",
    "    Ho = fft(ys[1::2])\n",
    "\n",
    "    ns = numpy.arange(N)\n",
    "    W = numpy.exp(-1j * PI2 * ns / N)\n",
    "\n",
    "    return numpy.tile(He, 2) + W * numpy.tile(Ho, 2)"
   ],
   "metadata": {
    "collapsed": false,
    "pycharm": {
     "name": "#%%\n"
    }
   }
  },
  {
   "cell_type": "markdown",
   "source": [
    "Сравнение"
   ],
   "metadata": {
    "collapsed": false
   }
  },
  {
   "cell_type": "code",
   "execution_count": 56,
   "outputs": [
    {
     "name": "stdout",
     "output_type": "stream",
     "text": [
      "[-0.1+0.0000000e+00j -0.2-1.1000000e+00j -0.3-1.2246468e-17j\n",
      " -0.2+1.1000000e+00j]\n"
     ]
    },
    {
     "data": {
      "text/plain": "4.0082452661027834e-16"
     },
     "execution_count": 56,
     "metadata": {},
     "output_type": "execute_result"
    }
   ],
   "source": [
    "hs4 = fft(ys)\n",
    "print(hs4)\n",
    "numpy.sum(numpy.abs(hs - hs4))"
   ],
   "metadata": {
    "collapsed": false,
    "pycharm": {
     "name": "#%%\n"
    }
   }
  }
 ],
 "metadata": {
  "kernelspec": {
   "display_name": "Python 3",
   "language": "python",
   "name": "python3"
  },
  "language_info": {
   "codemirror_mode": {
    "name": "ipython",
    "version": 2
   },
   "file_extension": ".py",
   "mimetype": "text/x-python",
   "name": "python",
   "nbconvert_exporter": "python",
   "pygments_lexer": "ipython2",
   "version": "2.7.6"
  }
 },
 "nbformat": 4,
 "nbformat_minor": 0
}